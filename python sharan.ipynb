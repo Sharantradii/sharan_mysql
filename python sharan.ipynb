{
  "nbformat": 4,
  "nbformat_minor": 0,
  "metadata": {
    "colab": {
      "provenance": [],
      "authorship_tag": "ABX9TyND5PPS5XNYVbxVBvNoeZKV",
      "include_colab_link": true
    },
    "kernelspec": {
      "name": "python3",
      "display_name": "Python 3"
    },
    "language_info": {
      "name": "python"
    }
  },
  "cells": [
    {
      "cell_type": "markdown",
      "metadata": {
        "id": "view-in-github",
        "colab_type": "text"
      },
      "source": [
        "<a href=\"https://colab.research.google.com/github/Sharantradii/sharan_mysql/blob/main/python%20sharan.ipynb\" target=\"_parent\"><img src=\"https://colab.research.google.com/assets/colab-badge.svg\" alt=\"Open In Colab\"/></a>"
      ]
    },
    {
      "cell_type": "code",
      "execution_count": 1,
      "metadata": {
        "id": "stmavYZb4R8s",
        "colab": {
          "base_uri": "https://localhost:8080/"
        },
        "outputId": "919ffaef-2f7f-4035-99a3-3a94739a791a"
      },
      "outputs": [
        {
          "output_type": "stream",
          "name": "stdout",
          "text": [
            "enter the usernamesharan\n",
            "enter the passworddumeel12\n",
            "login successful\n"
          ]
        }
      ],
      "source": [
        "username = input (\"enter the username\")\n",
        "password = input (\"enter the password\")\n",
        "if (username ==\"sharan\"and password == \"dumeel12\"):\n",
        "  print(\"login successful\")\n",
        "else :\n",
        "    print (\"the credential is wrong\")"
      ]
    },
    {
      "cell_type": "code",
      "source": [
        "oddnum = [i for i in range (100)if i % 3 == 0 ]\n",
        "print(oddnum)"
      ],
      "metadata": {
        "colab": {
          "base_uri": "https://localhost:8080/"
        },
        "id": "8Uy_9zxYndZZ",
        "outputId": "cef42f1a-ab1f-45a2-d9c9-771a99ba45aa"
      },
      "execution_count": 2,
      "outputs": [
        {
          "output_type": "stream",
          "name": "stdout",
          "text": [
            "[0, 3, 6, 9, 12, 15, 18, 21, 24, 27, 30, 33, 36, 39, 42, 45, 48, 51, 54, 57, 60, 63, 66, 69, 72, 75, 78, 81, 84, 87, 90, 93, 96, 99]\n"
          ]
        }
      ]
    },
    {
      "cell_type": "code",
      "source": [
        "evennum = [i for i in range (100)if i % 2 == 0 ]\n",
        "print(evennum)"
      ],
      "metadata": {
        "colab": {
          "base_uri": "https://localhost:8080/"
        },
        "id": "5XIO3_5cnnju",
        "outputId": "8e617757-c161-4ba1-d65a-971e8529189c"
      },
      "execution_count": 3,
      "outputs": [
        {
          "output_type": "stream",
          "name": "stdout",
          "text": [
            "[0, 2, 4, 6, 8, 10, 12, 14, 16, 18, 20, 22, 24, 26, 28, 30, 32, 34, 36, 38, 40, 42, 44, 46, 48, 50, 52, 54, 56, 58, 60, 62, 64, 66, 68, 70, 72, 74, 76, 78, 80, 82, 84, 86, 88, 90, 92, 94, 96, 98]\n"
          ]
        }
      ]
    },
    {
      "cell_type": "code",
      "source": [
        "fruits= ['dragonfruit','rasberry','kiwi','mangoose', 'watermelon','raseberry']\n",
        "for fruit in fruits :\n",
        "    print (fruit)"
      ],
      "metadata": {
        "colab": {
          "base_uri": "https://localhost:8080/"
        },
        "id": "h0DUjTuInq8I",
        "outputId": "0b346b77-e50b-4c32-aeb8-7ec3c273c90a"
      },
      "execution_count": 4,
      "outputs": [
        {
          "output_type": "stream",
          "name": "stdout",
          "text": [
            "dragonfruit\n",
            "rasberry\n",
            "kiwi\n",
            "mangoose\n",
            "watermelon\n",
            "raseberry\n"
          ]
        }
      ]
    }
  ]
}